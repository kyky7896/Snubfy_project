{
 "cells": [
  {
   "cell_type": "code",
   "execution_count": 1,
   "metadata": {},
   "outputs": [],
   "source": [
    "import pandas as pd\n",
    "import numpy as np\n",
    "from bs4 import BeautifulSoup as bs\n",
    "import requests\n",
    "import time\n",
    "from selenium import webdriver\n",
    "from selenium.webdriver.common.by import By\n",
    "from selenium.webdriver.support.ui import WebDriverWait \n",
    "from selenium.webdriver.support import expected_conditions as EC\n",
    "from selenium.webdriver.common.keys import Keys # button이 아닌 element도 클릭이 가능하게 만들어주는 모듈\n",
    "from selenium.webdriver.common.action_chains import ActionChains\n",
    "from selenium.common.exceptions import NoSuchElementException\n",
    "from selenium.common.exceptions import ElementNotInteractableException\n",
    "from selenium.common.exceptions import StaleElementReferenceException\n",
    "from bs4 import BeautifulSoup\n",
    "import urllib.request"
   ]
  },
  {
   "cell_type": "code",
   "execution_count": 3,
   "metadata": {},
   "outputs": [
    {
     "data": {
      "text/html": [
       "<div>\n",
       "<style scoped>\n",
       "    .dataframe tbody tr th:only-of-type {\n",
       "        vertical-align: middle;\n",
       "    }\n",
       "\n",
       "    .dataframe tbody tr th {\n",
       "        vertical-align: top;\n",
       "    }\n",
       "\n",
       "    .dataframe thead th {\n",
       "        text-align: right;\n",
       "    }\n",
       "</style>\n",
       "<table border=\"1\" class=\"dataframe\">\n",
       "  <thead>\n",
       "    <tr style=\"text-align: right;\">\n",
       "      <th></th>\n",
       "      <th>product_id</th>\n",
       "      <th>product_name</th>\n",
       "      <th>price</th>\n",
       "      <th>detail</th>\n",
       "      <th>image</th>\n",
       "    </tr>\n",
       "  </thead>\n",
       "  <tbody>\n",
       "    <tr>\n",
       "      <th>0</th>\n",
       "      <td>1</td>\n",
       "      <td>Chocolate Sandwich Cookies</td>\n",
       "      <td>NaN</td>\n",
       "      <td>NaN</td>\n",
       "      <td>NaN</td>\n",
       "    </tr>\n",
       "    <tr>\n",
       "      <th>1</th>\n",
       "      <td>4</td>\n",
       "      <td>Smart Ones Classic Favorites Mini Rigatoni Wit...</td>\n",
       "      <td>NaN</td>\n",
       "      <td>NaN</td>\n",
       "      <td>NaN</td>\n",
       "    </tr>\n",
       "    <tr>\n",
       "      <th>2</th>\n",
       "      <td>8</td>\n",
       "      <td>Cut Russet Potatoes Steam N' Mash</td>\n",
       "      <td>NaN</td>\n",
       "      <td>NaN</td>\n",
       "      <td>NaN</td>\n",
       "    </tr>\n",
       "    <tr>\n",
       "      <th>3</th>\n",
       "      <td>10</td>\n",
       "      <td>Sparkling Orange Juice &amp; Prickly Pear Beverage</td>\n",
       "      <td>NaN</td>\n",
       "      <td>NaN</td>\n",
       "      <td>NaN</td>\n",
       "    </tr>\n",
       "    <tr>\n",
       "      <th>4</th>\n",
       "      <td>12</td>\n",
       "      <td>Chocolate Fudge Layer Cake</td>\n",
       "      <td>NaN</td>\n",
       "      <td>NaN</td>\n",
       "      <td>NaN</td>\n",
       "    </tr>\n",
       "  </tbody>\n",
       "</table>\n",
       "</div>"
      ],
      "text/plain": [
       "   product_id                                       product_name  price  \\\n",
       "0           1                         Chocolate Sandwich Cookies    NaN   \n",
       "1           4  Smart Ones Classic Favorites Mini Rigatoni Wit...    NaN   \n",
       "2           8                  Cut Russet Potatoes Steam N' Mash    NaN   \n",
       "3          10     Sparkling Orange Juice & Prickly Pear Beverage    NaN   \n",
       "4          12                         Chocolate Fudge Layer Cake    NaN   \n",
       "\n",
       "   detail  image  \n",
       "0     NaN    NaN  \n",
       "1     NaN    NaN  \n",
       "2     NaN    NaN  \n",
       "3     NaN    NaN  \n",
       "4     NaN    NaN  "
      ]
     },
     "execution_count": 3,
     "metadata": {},
     "output_type": "execute_result"
    }
   ],
   "source": [
    "product_df = pd.read_csv('./product_table.csv', encoding = 'latin-1')\n",
    "product_df.head(5)"
   ]
  },
  {
   "cell_type": "code",
   "execution_count": 17,
   "metadata": {},
   "outputs": [
    {
     "name": "stderr",
     "output_type": "stream",
     "text": [
      "C:\\Users\\psm69\\AppData\\Local\\Temp\\ipykernel_8088\\1954891913.py:1: DeprecationWarning: executable_path has been deprecated, please pass in a Service object\n",
      "  browser = webdriver.Chrome(\"C:/Users/psm69/Desktop/프로그래밍/Python/Project/브로컬리&스누피/크롤링/chromedriver.exe\")\n"
     ]
    }
   ],
   "source": [
    "browser = webdriver.Chrome()\n",
    "url = 'https://www.amazon.com/'\n",
    "browser.get(url)\n",
    "#창 최대화\n",
    "browser.maximize_window()\n"
   ]
  },
  {
   "cell_type": "code",
   "execution_count": 5,
   "metadata": {},
   "outputs": [],
   "source": [
    "import os\n",
    "#폴더 확인 후 없으면 폴더 생성\n",
    "img_folder = './product_img'\n",
    "\n",
    "if not os.path.isdir(img_folder):\n",
    "    os.mkdir(img_folder)"
   ]
  },
  {
   "cell_type": "code",
   "execution_count": 61,
   "metadata": {},
   "outputs": [
    {
     "ename": "WebDriverException",
     "evalue": "Message: unknown error: cannot determine loading status\nfrom unknown error: unexpected command response\n  (Session info: chrome=104.0.5112.102)\nStacktrace:\nBacktrace:\n\tOrdinal0 [0x00346463+2188387]\n\tOrdinal0 [0x002DE461+1762401]\n\tOrdinal0 [0x001F3D78+802168]\n\tOrdinal0 [0x001E7210+750096]\n\tOrdinal0 [0x001E675A+747354]\n\tOrdinal0 [0x001E5D3F+744767]\n\tOrdinal0 [0x001E4C28+740392]\n\tOrdinal0 [0x001E5228+741928]\n\tOrdinal0 [0x001EF153+782675]\n\tOrdinal0 [0x001F9FBB+827323]\n\tOrdinal0 [0x001FD310+840464]\n\tOrdinal0 [0x001E54F6+742646]\n\tOrdinal0 [0x001F9BF3+826355]\n\tOrdinal0 [0x0024CF6D+1167213]\n\tOrdinal0 [0x0023C5F6+1099254]\n\tOrdinal0 [0x00216BE0+945120]\n\tOrdinal0 [0x00217AD6+948950]\n\tGetHandleVerifier [0x005E71F2+2712546]\n\tGetHandleVerifier [0x005D886D+2652765]\n\tGetHandleVerifier [0x003D002A+520730]\n\tGetHandleVerifier [0x003CEE06+516086]\n\tOrdinal0 [0x002E468B+1787531]\n\tOrdinal0 [0x002E8E88+1805960]\n\tOrdinal0 [0x002E8F75+1806197]\n\tOrdinal0 [0x002F1DF1+1842673]\n\tBaseThreadInitThunk [0x766CFA29+25]\n\tRtlGetAppContainerNamedObjectPath [0x77557A9E+286]\n\tRtlGetAppContainerNamedObjectPath [0x77557A6E+238]\n",
     "output_type": "error",
     "traceback": [
      "\u001b[1;31m---------------------------------------------------------------------------\u001b[0m",
      "\u001b[1;31mWebDriverException\u001b[0m                        Traceback (most recent call last)",
      "\u001b[1;32mc:\\Users\\psm69\\Desktop\\프로그래밍\\Python\\Project\\브로컬리&스누피\\크롤링\\product_crawling.ipynb 셀 5\u001b[0m in \u001b[0;36m<cell line: 5>\u001b[1;34m()\u001b[0m\n\u001b[0;32m     <a href='vscode-notebook-cell:/c%3A/Users/psm69/Desktop/%ED%94%84%EB%A1%9C%EA%B7%B8%EB%9E%98%EB%B0%8D/Python/Project/%EB%B8%8C%EB%A1%9C%EC%BB%AC%EB%A6%AC%26%EC%8A%A4%EB%88%84%ED%94%BC/%ED%81%AC%EB%A1%A4%EB%A7%81/product_crawling.ipynb#W4sZmlsZQ%3D%3D?line=14'>15</a>\u001b[0m search_window\u001b[39m.\u001b[39mclear()\n\u001b[0;32m     <a href='vscode-notebook-cell:/c%3A/Users/psm69/Desktop/%ED%94%84%EB%A1%9C%EA%B7%B8%EB%9E%98%EB%B0%8D/Python/Project/%EB%B8%8C%EB%A1%9C%EC%BB%AC%EB%A6%AC%26%EC%8A%A4%EB%88%84%ED%94%BC/%ED%81%AC%EB%A1%A4%EB%A7%81/product_crawling.ipynb#W4sZmlsZQ%3D%3D?line=16'>17</a>\u001b[0m time\u001b[39m.\u001b[39msleep(\u001b[39m1\u001b[39m)\n\u001b[1;32m---> <a href='vscode-notebook-cell:/c%3A/Users/psm69/Desktop/%ED%94%84%EB%A1%9C%EA%B7%B8%EB%9E%98%EB%B0%8D/Python/Project/%EB%B8%8C%EB%A1%9C%EC%BB%AC%EB%A6%AC%26%EC%8A%A4%EB%88%84%ED%94%BC/%ED%81%AC%EB%A1%A4%EB%A7%81/product_crawling.ipynb#W4sZmlsZQ%3D%3D?line=18'>19</a>\u001b[0m search_window\u001b[39m.\u001b[39;49msend_keys(p_name \u001b[39m+\u001b[39;49m \u001b[39m'\u001b[39;49m\u001b[39m\\n\u001b[39;49;00m\u001b[39m'\u001b[39;49m)\n\u001b[0;32m     <a href='vscode-notebook-cell:/c%3A/Users/psm69/Desktop/%ED%94%84%EB%A1%9C%EA%B7%B8%EB%9E%98%EB%B0%8D/Python/Project/%EB%B8%8C%EB%A1%9C%EC%BB%AC%EB%A6%AC%26%EC%8A%A4%EB%88%84%ED%94%BC/%ED%81%AC%EB%A1%A4%EB%A7%81/product_crawling.ipynb#W4sZmlsZQ%3D%3D?line=20'>21</a>\u001b[0m \u001b[39m#가격 정보\u001b[39;00m\n\u001b[0;32m     <a href='vscode-notebook-cell:/c%3A/Users/psm69/Desktop/%ED%94%84%EB%A1%9C%EA%B7%B8%EB%9E%98%EB%B0%8D/Python/Project/%EB%B8%8C%EB%A1%9C%EC%BB%AC%EB%A6%AC%26%EC%8A%A4%EB%88%84%ED%94%BC/%ED%81%AC%EB%A1%A4%EB%A7%81/product_crawling.ipynb#W4sZmlsZQ%3D%3D?line=21'>22</a>\u001b[0m \u001b[39mtry\u001b[39;00m:\n",
      "File \u001b[1;32m~\\AppData\\Local\\Packages\\PythonSoftwareFoundation.Python.3.10_qbz5n2kfra8p0\\LocalCache\\local-packages\\Python310\\site-packages\\selenium\\webdriver\\remote\\webelement.py:540\u001b[0m, in \u001b[0;36mWebElement.send_keys\u001b[1;34m(self, *value)\u001b[0m\n\u001b[0;32m    537\u001b[0m             remote_files\u001b[39m.\u001b[39mappend(\u001b[39mself\u001b[39m\u001b[39m.\u001b[39m_upload(file))\n\u001b[0;32m    538\u001b[0m         value \u001b[39m=\u001b[39m \u001b[39m'\u001b[39m\u001b[39m\\n\u001b[39;00m\u001b[39m'\u001b[39m\u001b[39m.\u001b[39mjoin(remote_files)\n\u001b[1;32m--> 540\u001b[0m \u001b[39mself\u001b[39;49m\u001b[39m.\u001b[39;49m_execute(Command\u001b[39m.\u001b[39;49mSEND_KEYS_TO_ELEMENT,\n\u001b[0;32m    541\u001b[0m               {\u001b[39m'\u001b[39;49m\u001b[39mtext\u001b[39;49m\u001b[39m'\u001b[39;49m: \u001b[39m\"\u001b[39;49m\u001b[39m\"\u001b[39;49m\u001b[39m.\u001b[39;49mjoin(keys_to_typing(value)),\n\u001b[0;32m    542\u001b[0m                \u001b[39m'\u001b[39;49m\u001b[39mvalue\u001b[39;49m\u001b[39m'\u001b[39;49m: keys_to_typing(value)})\n",
      "File \u001b[1;32m~\\AppData\\Local\\Packages\\PythonSoftwareFoundation.Python.3.10_qbz5n2kfra8p0\\LocalCache\\local-packages\\Python310\\site-packages\\selenium\\webdriver\\remote\\webelement.py:710\u001b[0m, in \u001b[0;36mWebElement._execute\u001b[1;34m(self, command, params)\u001b[0m\n\u001b[0;32m    708\u001b[0m     params \u001b[39m=\u001b[39m {}\n\u001b[0;32m    709\u001b[0m params[\u001b[39m'\u001b[39m\u001b[39mid\u001b[39m\u001b[39m'\u001b[39m] \u001b[39m=\u001b[39m \u001b[39mself\u001b[39m\u001b[39m.\u001b[39m_id\n\u001b[1;32m--> 710\u001b[0m \u001b[39mreturn\u001b[39;00m \u001b[39mself\u001b[39;49m\u001b[39m.\u001b[39;49m_parent\u001b[39m.\u001b[39;49mexecute(command, params)\n",
      "File \u001b[1;32m~\\AppData\\Local\\Packages\\PythonSoftwareFoundation.Python.3.10_qbz5n2kfra8p0\\LocalCache\\local-packages\\Python310\\site-packages\\selenium\\webdriver\\remote\\webdriver.py:425\u001b[0m, in \u001b[0;36mWebDriver.execute\u001b[1;34m(self, driver_command, params)\u001b[0m\n\u001b[0;32m    423\u001b[0m response \u001b[39m=\u001b[39m \u001b[39mself\u001b[39m\u001b[39m.\u001b[39mcommand_executor\u001b[39m.\u001b[39mexecute(driver_command, params)\n\u001b[0;32m    424\u001b[0m \u001b[39mif\u001b[39;00m response:\n\u001b[1;32m--> 425\u001b[0m     \u001b[39mself\u001b[39;49m\u001b[39m.\u001b[39;49merror_handler\u001b[39m.\u001b[39;49mcheck_response(response)\n\u001b[0;32m    426\u001b[0m     response[\u001b[39m'\u001b[39m\u001b[39mvalue\u001b[39m\u001b[39m'\u001b[39m] \u001b[39m=\u001b[39m \u001b[39mself\u001b[39m\u001b[39m.\u001b[39m_unwrap_value(\n\u001b[0;32m    427\u001b[0m         response\u001b[39m.\u001b[39mget(\u001b[39m'\u001b[39m\u001b[39mvalue\u001b[39m\u001b[39m'\u001b[39m, \u001b[39mNone\u001b[39;00m))\n\u001b[0;32m    428\u001b[0m     \u001b[39mreturn\u001b[39;00m response\n",
      "File \u001b[1;32m~\\AppData\\Local\\Packages\\PythonSoftwareFoundation.Python.3.10_qbz5n2kfra8p0\\LocalCache\\local-packages\\Python310\\site-packages\\selenium\\webdriver\\remote\\errorhandler.py:247\u001b[0m, in \u001b[0;36mErrorHandler.check_response\u001b[1;34m(self, response)\u001b[0m\n\u001b[0;32m    245\u001b[0m         alert_text \u001b[39m=\u001b[39m value[\u001b[39m'\u001b[39m\u001b[39malert\u001b[39m\u001b[39m'\u001b[39m]\u001b[39m.\u001b[39mget(\u001b[39m'\u001b[39m\u001b[39mtext\u001b[39m\u001b[39m'\u001b[39m)\n\u001b[0;32m    246\u001b[0m     \u001b[39mraise\u001b[39;00m exception_class(message, screen, stacktrace, alert_text)  \u001b[39m# type: ignore[call-arg]  # mypy is not smart enough here\u001b[39;00m\n\u001b[1;32m--> 247\u001b[0m \u001b[39mraise\u001b[39;00m exception_class(message, screen, stacktrace)\n",
      "\u001b[1;31mWebDriverException\u001b[0m: Message: unknown error: cannot determine loading status\nfrom unknown error: unexpected command response\n  (Session info: chrome=104.0.5112.102)\nStacktrace:\nBacktrace:\n\tOrdinal0 [0x00346463+2188387]\n\tOrdinal0 [0x002DE461+1762401]\n\tOrdinal0 [0x001F3D78+802168]\n\tOrdinal0 [0x001E7210+750096]\n\tOrdinal0 [0x001E675A+747354]\n\tOrdinal0 [0x001E5D3F+744767]\n\tOrdinal0 [0x001E4C28+740392]\n\tOrdinal0 [0x001E5228+741928]\n\tOrdinal0 [0x001EF153+782675]\n\tOrdinal0 [0x001F9FBB+827323]\n\tOrdinal0 [0x001FD310+840464]\n\tOrdinal0 [0x001E54F6+742646]\n\tOrdinal0 [0x001F9BF3+826355]\n\tOrdinal0 [0x0024CF6D+1167213]\n\tOrdinal0 [0x0023C5F6+1099254]\n\tOrdinal0 [0x00216BE0+945120]\n\tOrdinal0 [0x00217AD6+948950]\n\tGetHandleVerifier [0x005E71F2+2712546]\n\tGetHandleVerifier [0x005D886D+2652765]\n\tGetHandleVerifier [0x003D002A+520730]\n\tGetHandleVerifier [0x003CEE06+516086]\n\tOrdinal0 [0x002E468B+1787531]\n\tOrdinal0 [0x002E8E88+1805960]\n\tOrdinal0 [0x002E8F75+1806197]\n\tOrdinal0 [0x002F1DF1+1842673]\n\tBaseThreadInitThunk [0x766CFA29+25]\n\tRtlGetAppContainerNamedObjectPath [0x77557A9E+286]\n\tRtlGetAppContainerNamedObjectPath [0x77557A6E+238]\n"
     ]
    }
   ],
   "source": [
    "p_price = []\n",
    "img_name = []\n",
    "\n",
    "wait = WebDriverWait(browser,4)\n",
    "\n",
    "for p_name in product_df['product_name']:\n",
    "    name = ''\n",
    "    for s in p_name:\n",
    "        #폴더에 들어갈 수 없는 문자들 제외\n",
    "        if s not in ['?', '/', '~', '!', '@', '#', '$', '%', '^', '*', '\\\\', \"'\"]:\n",
    "            name += s\n",
    "\n",
    "    p_name = name\n",
    "\n",
    "    browser.implicitly_wait(10)\n",
    "    search_window = browser.find_element(By.ID,'twotabsearchtextbox')\n",
    "    search_window.clear()\n",
    "\n",
    "    time.sleep(0.5)\n",
    "    \n",
    "    #검색시 오류뜨는 경우를 대비하기 위해\n",
    "    try:\n",
    "        search_window.send_keys(p_name + '\\n')\n",
    "\n",
    "        #가격 정보\n",
    "        try:\n",
    "            price = wait.until(browser.find_elements(By.CLASS_NAME, 'a-price-whole'))\n",
    "            fraction = browser.find_elements(By.CLASS_NAME, 'a-price-fraction')\n",
    "            p_price.append(price[0].text+'.'+fraction[0].text)           \n",
    "        except:\n",
    "            #검색 정보 없으면 0 달러\n",
    "            p_price.append('0')\n",
    "\n",
    "        #이미지 정보\n",
    "        try:\n",
    "            img = browser.find_elements(By.CLASS_NAME, 's-image')\n",
    "            link = img[0].get_attribute('src')\n",
    "            urllib.request.urlretrieve(link, \"./product_img/\"+p_name+\".jpg\")\n",
    "            img_name.append(p_name+\".jpg\")\n",
    "        except:\n",
    "            img_name.append('NaN')\n",
    "    except:\n",
    "        p_price.append('0')\n",
    "        img_name.append('NaN')"
   ]
  },
  {
   "cell_type": "code",
   "execution_count": null,
   "metadata": {},
   "outputs": [],
   "source": [
    "product_df['price'] = p_price\n",
    "product_df['image'] = img_name\n",
    "\n",
    "product_df.to_csv('./product_table.csv', index = False)"
   ]
  }
 ],
 "metadata": {
  "kernelspec": {
   "display_name": "Python 3.10.6 64-bit (windows store)",
   "language": "python",
   "name": "python3"
  },
  "language_info": {
   "codemirror_mode": {
    "name": "ipython",
    "version": 3
   },
   "file_extension": ".py",
   "mimetype": "text/x-python",
   "name": "python",
   "nbconvert_exporter": "python",
   "pygments_lexer": "ipython3",
   "version": "3.10.7"
  },
  "orig_nbformat": 4,
  "vscode": {
   "interpreter": {
    "hash": "76dbe0447d9e0d47e4fa04e06d7eb29a5d2345c3b6b37ad48a8536f7d1b988b2"
   }
  }
 },
 "nbformat": 4,
 "nbformat_minor": 2
}
