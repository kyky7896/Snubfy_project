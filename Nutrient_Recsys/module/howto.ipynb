{
 "cells": [
  {
   "cell_type": "markdown",
   "metadata": {},
   "source": [
    "### 영양소 불러오는 법"
   ]
  },
  {
   "cell_type": "code",
   "execution_count": 1,
   "metadata": {},
   "outputs": [],
   "source": [
    "import numpy as np\n",
    "import pymysql"
   ]
  },
  {
   "cell_type": "code",
   "execution_count": 2,
   "metadata": {},
   "outputs": [],
   "source": [
    "#SQL 연결\n",
    "conn_db = pymysql.connect(\n",
    "    user = 'root',\n",
    "    passwd = '1234',\n",
    "    host = '127.0.0.1',\n",
    "    db = 'snupfy',\n",
    "    charset = 'utf8'\n",
    ")\n",
    "\n",
    "cursor = conn_db.cursor(pymysql.cursors.DictCursor)"
   ]
  },
  {
   "cell_type": "markdown",
   "metadata": {},
   "source": [
    "### 모듈 불러오기\n",
    "- 참고로 user_nutrient 모듈에 sql 연결하는 코드가 있는데 거기에 정보 입력해서 자동 연결해두 됨!"
   ]
  },
  {
   "cell_type": "code",
   "execution_count": 3,
   "metadata": {},
   "outputs": [],
   "source": [
    "from user_nutrient import User_Nutrient as un\n",
    "\n",
    "user1 = un('Adults', 32, 'Male', 169, 55, 'Low Active', 0, 0) #유저 정보 입력 (시나리오할 두 개만 사용하면 될 듯..?)"
   ]
  },
  {
   "cell_type": "code",
   "execution_count": 4,
   "metadata": {},
   "outputs": [
    {
     "data": {
      "text/plain": [
       "array([2.3406e+03, 1.3000e+02, 4.6800e+01, 3.7000e+00, 9.0000e+02,\n",
       "       1.7000e+00, 2.4000e+00, 9.0000e+01, 5.0000e+01, 1.0000e+03,\n",
       "       1.5000e+00, 7.0000e+02, 4.7000e+00, 2.3000e+00, 4.2000e+02])"
      ]
     },
     "execution_count": 4,
     "metadata": {},
     "output_type": "execute_result"
    }
   ],
   "source": [
    "# 유저1 영양소 권장 섭취량 불러오기\n",
    "user1.get_nutrient()\n",
    "# 칼로리, 탄수화물, 단백질, 물, 비타민 A, 비타민 B-6, 비타민 B-12, 비타민 C, 비타민 D, 칼슘, 나트륨, 인, 칼륨, 염소, 마그네슘 (DB에서 불러올 때도 이 순서로 불러옴!)"
   ]
  },
  {
   "cell_type": "code",
   "execution_count": 6,
   "metadata": {},
   "outputs": [
    {
     "data": {
      "text/plain": [
       "array([ 75.4,  95.5,  -5.6,  98.6,  15.4, 100. ,   4.2, 100. ,  92.4,\n",
       "         3.2,  57.5,  49.4,  93.1,  99.3,  95.2])"
      ]
     },
     "execution_count": 6,
     "metadata": {},
     "output_type": "execute_result"
    }
   ],
   "source": [
    "user1.nutrient_percent(112108) #DB에서 해당 유저의 ID를 가져옴\n",
    "#각 영양소 부족한 양을 백분율로 표시 (양수면 부족한 것)"
   ]
  },
  {
   "cell_type": "code",
   "execution_count": 7,
   "metadata": {},
   "outputs": [
    {
     "data": {
      "text/plain": [
       "[{'product_id': 16715,\n",
       "  'product_name': 'Organic Lowfat Plain Unsweetened Kefir',\n",
       "  'price': 99.95,\n",
       "  'detail': 'Organic Lowfat Plain Unsweetened Kefir',\n",
       "  'image': 'Organic Lowfat Plain Unsweetened Kefir.jpg',\n",
       "  'ingred_id': 2137},\n",
       " {'product_id': 32134,\n",
       "  'product_name': 'Lactose Free Plain Kefir',\n",
       "  'price': 99.95,\n",
       "  'detail': 'Lactose Free Plain Kefir',\n",
       "  'image': 'Lactose Free Plain Kefir.jpg',\n",
       "  'ingred_id': 2137},\n",
       " {'product_id': 48805,\n",
       "  'product_name': 'Lowfat Plain Yoghurt',\n",
       "  'price': 99.95,\n",
       "  'detail': 'Lowfat Plain Yoghurt',\n",
       "  'image': 'Lowfat Plain Yoghurt.jpg',\n",
       "  'ingred_id': 1879},\n",
       " {'product_id': 27392,\n",
       "  'product_name': 'Strawberry Organic Kefir',\n",
       "  'price': 22.85,\n",
       "  'detail': 'Strawberry Organic Kefir',\n",
       "  'image': 'Strawberry Organic Kefir.jpg',\n",
       "  'ingred_id': 2137},\n",
       " {'product_id': 38127,\n",
       "  'product_name': \"Lowfat Strawberries 'n Cream Kefir\",\n",
       "  'price': 11.99,\n",
       "  'detail': \"Lowfat Strawberries 'n Cream Kefir\",\n",
       "  'image': \"Lowfat Strawberries 'n Cream Kefir.jpg\",\n",
       "  'ingred_id': 2137},\n",
       " {'product_id': 19161,\n",
       "  'product_name': 'Organic Summer Strawberry Kefir',\n",
       "  'price': 32.95,\n",
       "  'detail': 'Organic Summer Strawberry Kefir',\n",
       "  'image': 'Organic Summer Strawberry Kefir.jpg',\n",
       "  'ingred_id': 2137},\n",
       " {'product_id': 37022,\n",
       "  'product_name': 'Plain Cultured Goat Milk Kefir',\n",
       "  'price': 26.99,\n",
       "  'detail': 'Plain Cultured Goat Milk Kefir',\n",
       "  'image': 'Plain Cultured Goat Milk Kefir.jpg',\n",
       "  'ingred_id': 2444},\n",
       " {'product_id': 20019,\n",
       "  'product_name': 'Lowfat Kefir Smoothie Blueberry',\n",
       "  'price': 39.99,\n",
       "  'detail': 'Lowfat Kefir Smoothie Blueberry',\n",
       "  'image': 'Lowfat Kefir Smoothie Blueberry.jpg',\n",
       "  'ingred_id': 2137},\n",
       " {'product_id': 33270,\n",
       "  'product_name': 'Lactose Free Probiotic Lowfat Strawberry-Banana Kefir',\n",
       "  'price': 30.02,\n",
       "  'detail': 'Lactose Free Probiotic Lowfat Strawberry-Banana Kefir',\n",
       "  'image': 'Lactose Free Probiotic Lowfat Strawberry-Banana Kefir.jpg',\n",
       "  'ingred_id': 2137}]"
      ]
     },
     "execution_count": 7,
     "metadata": {},
     "output_type": "execute_result"
    }
   ],
   "source": [
    "user1.rec_product(112108) #위와 똑같이 DB에서 유저의 ID를 가져옴\n",
    "#부족한 영양소 (백분율이 0보다 큰 경우)들을 모두 검색해 조건에 맞는 상품 9개 끌어오기. 희망시 수정가능 fetchmany(9)에서 9를 원하는 숫자로"
   ]
  }
 ],
 "metadata": {
  "kernelspec": {
   "display_name": "Python 3.9.12 ('base')",
   "language": "python",
   "name": "python3"
  },
  "language_info": {
   "codemirror_mode": {
    "name": "ipython",
    "version": 3
   },
   "file_extension": ".py",
   "mimetype": "text/x-python",
   "name": "python",
   "nbconvert_exporter": "python",
   "pygments_lexer": "ipython3",
   "version": "3.9.12"
  },
  "orig_nbformat": 4,
  "vscode": {
   "interpreter": {
    "hash": "263930470851f494f0ed2879c35b57985588df20f9e529b86e97dd5eb9ddc466"
   }
  }
 },
 "nbformat": 4,
 "nbformat_minor": 2
}
